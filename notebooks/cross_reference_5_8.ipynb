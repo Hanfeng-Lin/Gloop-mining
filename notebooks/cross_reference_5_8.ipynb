{
 "cells": [
  {
   "cell_type": "code",
   "execution_count": 1,
   "metadata": {},
   "outputs": [],
   "source": [
    "import pandas as pd \n",
    "df8 = pd.read_csv('preprocessed_files/mining_{}res_summary_noEC.csv'.format('8'))\n",
    "df5 = pd.read_csv('preprocessed_files/mining_{}res_summary_noEC.csv'.format('5'))"
   ]
  },
  {
   "cell_type": "code",
   "execution_count": 2,
   "metadata": {},
   "outputs": [
    {
     "name": "stdout",
     "output_type": "stream",
     "text": [
      "8res: 1424\n",
      "5res: 1633\n"
     ]
    }
   ],
   "source": [
    "set1 = set(df8['gene'].values)\n",
    "set2 = set(df5['gene'].values)\n",
    "\n",
    "print('8res:', len(set1))\n",
    "print('5res:', len(set2))"
   ]
  },
  {
   "cell_type": "code",
   "execution_count": 3,
   "metadata": {},
   "outputs": [
    {
     "name": "stdout",
     "output_type": "stream",
     "text": [
      "Common: 1344\n"
     ]
    }
   ],
   "source": [
    "# Print the number of genes in 8res that are also in 5res: \n",
    "print('Common:', len(set1.intersection(set2)))"
   ]
  }
 ],
 "metadata": {
  "kernelspec": {
   "display_name": "pabloenv_x86",
   "language": "python",
   "name": "python3"
  },
  "language_info": {
   "codemirror_mode": {
    "name": "ipython",
    "version": 3
   },
   "file_extension": ".py",
   "mimetype": "text/x-python",
   "name": "python",
   "nbconvert_exporter": "python",
   "pygments_lexer": "ipython3",
   "version": "3.9.18"
  }
 },
 "nbformat": 4,
 "nbformat_minor": 2
}
