{
 "cells": [
  {
   "cell_type": "markdown",
   "metadata": {},
   "source": [
    "# Read the panther annotations for all uniprot ids."
   ]
  },
  {
   "cell_type": "code",
   "execution_count": 1,
   "metadata": {},
   "outputs": [
    {
     "data": {
      "text/html": [
       "<div>\n",
       "<style scoped>\n",
       "    .dataframe tbody tr th:only-of-type {\n",
       "        vertical-align: middle;\n",
       "    }\n",
       "\n",
       "    .dataframe tbody tr th {\n",
       "        vertical-align: top;\n",
       "    }\n",
       "\n",
       "    .dataframe thead th {\n",
       "        text-align: right;\n",
       "    }\n",
       "</style>\n",
       "<table border=\"1\" class=\"dataframe\">\n",
       "  <thead>\n",
       "    <tr style=\"text-align: right;\">\n",
       "      <th></th>\n",
       "      <th>pantherid</th>\n",
       "      <th>uniprot</th>\n",
       "      <th>Gene Symbol</th>\n",
       "      <th>Panther family</th>\n",
       "      <th>Panther protein class</th>\n",
       "      <th>species</th>\n",
       "    </tr>\n",
       "  </thead>\n",
       "  <tbody>\n",
       "    <tr>\n",
       "      <th>0</th>\n",
       "      <td>HUMAN|HGNC=16135|UniProtKB=Q8N6M3</td>\n",
       "      <td>Q8N6M3</td>\n",
       "      <td>Acyl-coenzyme A diphosphatase FITM2;FITM2;PTN0...</td>\n",
       "      <td>ACYL-COENZYME A DIPHOSPHATASE FITM2 (PTHR23129...</td>\n",
       "      <td>phosphatase(PC00181)</td>\n",
       "      <td>Homo sapiens</td>\n",
       "    </tr>\n",
       "    <tr>\n",
       "      <th>1</th>\n",
       "      <td>HUMAN|HGNC=12859|UniProtKB=O00237</td>\n",
       "      <td>O00237</td>\n",
       "      <td>E3 ubiquitin-protein ligase RNF103;RNF103;PTN0...</td>\n",
       "      <td>E3 UBIQUITIN-PROTEIN LIGASE RNF103 (PTHR15302:...</td>\n",
       "      <td>ubiquitin-protein ligase(PC00234)</td>\n",
       "      <td>Homo sapiens</td>\n",
       "    </tr>\n",
       "    <tr>\n",
       "      <th>2</th>\n",
       "      <td>HUMAN|HGNC=24616|UniProtKB=Q8N1G1</td>\n",
       "      <td>Q8N1G1</td>\n",
       "      <td>RNA exonuclease 1 homolog;REXO1;PTN002489741;o...</td>\n",
       "      <td>RNA EXONUCLEASE 1 HOMOLOG (PTHR12801:SF62)</td>\n",
       "      <td>exoribonuclease(PC00099)</td>\n",
       "      <td>Homo sapiens</td>\n",
       "    </tr>\n",
       "    <tr>\n",
       "      <th>3</th>\n",
       "      <td>HUMAN|HGNC=16710|UniProtKB=Q9H8T0</td>\n",
       "      <td>Q9H8T0</td>\n",
       "      <td>AKT-interacting protein;AKTIP;PTN002545715;ort...</td>\n",
       "      <td>AKT-INTERACTING PROTEIN (PTHR24068:SF525)</td>\n",
       "      <td>ubiquitin-protein ligase(PC00234)</td>\n",
       "      <td>Homo sapiens</td>\n",
       "    </tr>\n",
       "    <tr>\n",
       "      <th>4</th>\n",
       "      <td>HUMAN|HGNC=16112|UniProtKB=A0PJX2</td>\n",
       "      <td>A0PJX2</td>\n",
       "      <td>TLD domain-containing protein 2;TLDC2;PTN00251...</td>\n",
       "      <td>TLD DOMAIN-CONTAINING PROTEIN 2 (PTHR23354:SF65)</td>\n",
       "      <td>NaN</td>\n",
       "      <td>Homo sapiens</td>\n",
       "    </tr>\n",
       "  </tbody>\n",
       "</table>\n",
       "</div>"
      ],
      "text/plain": [
       "                           pantherid uniprot  \\\n",
       "0  HUMAN|HGNC=16135|UniProtKB=Q8N6M3  Q8N6M3   \n",
       "1  HUMAN|HGNC=12859|UniProtKB=O00237  O00237   \n",
       "2  HUMAN|HGNC=24616|UniProtKB=Q8N1G1  Q8N1G1   \n",
       "3  HUMAN|HGNC=16710|UniProtKB=Q9H8T0  Q9H8T0   \n",
       "4  HUMAN|HGNC=16112|UniProtKB=A0PJX2  A0PJX2   \n",
       "\n",
       "                                         Gene Symbol  \\\n",
       "0  Acyl-coenzyme A diphosphatase FITM2;FITM2;PTN0...   \n",
       "1  E3 ubiquitin-protein ligase RNF103;RNF103;PTN0...   \n",
       "2  RNA exonuclease 1 homolog;REXO1;PTN002489741;o...   \n",
       "3  AKT-interacting protein;AKTIP;PTN002545715;ort...   \n",
       "4  TLD domain-containing protein 2;TLDC2;PTN00251...   \n",
       "\n",
       "                                      Panther family  \\\n",
       "0  ACYL-COENZYME A DIPHOSPHATASE FITM2 (PTHR23129...   \n",
       "1  E3 UBIQUITIN-PROTEIN LIGASE RNF103 (PTHR15302:...   \n",
       "2         RNA EXONUCLEASE 1 HOMOLOG (PTHR12801:SF62)   \n",
       "3          AKT-INTERACTING PROTEIN (PTHR24068:SF525)   \n",
       "4   TLD DOMAIN-CONTAINING PROTEIN 2 (PTHR23354:SF65)   \n",
       "\n",
       "               Panther protein class       species  \n",
       "0               phosphatase(PC00181)  Homo sapiens  \n",
       "1  ubiquitin-protein ligase(PC00234)  Homo sapiens  \n",
       "2           exoribonuclease(PC00099)  Homo sapiens  \n",
       "3  ubiquitin-protein ligase(PC00234)  Homo sapiens  \n",
       "4                                NaN  Homo sapiens  "
      ]
     },
     "execution_count": 1,
     "metadata": {},
     "output_type": "execute_result"
    }
   ],
   "source": [
    "# Gene ontology enrichment analysis\n",
    "# Read definitions first\n",
    "import pandas as pd\n",
    "uniprot_to_panther = pd.read_csv('../databases/gene_ontology_custom/pantherGeneList.txt', sep='\\t',\n",
    "                                 names=['pantherid', 'uniprot', 'Gene Symbol', 'Panther family', 'Panther protein class', 'species'])\n",
    "\n",
    "\n",
    "uniprot_to_panther.head()\n"
   ]
  },
  {
   "cell_type": "code",
   "execution_count": 3,
   "metadata": {},
   "outputs": [],
   "source": [
    "import matplotlib.pyplot as plt\n",
    "import matplotlib\n",
    "matplotlib.rcParams['font.family'] = 'Helvetica'\n",
    "matplotlib.rcParams['font.size']= 5"
   ]
  },
  {
   "cell_type": "markdown",
   "metadata": {},
   "source": [
    "# Run the code for generating the plots. Set the loop length to either 5 or 8."
   ]
  },
  {
   "cell_type": "code",
   "execution_count": 4,
   "metadata": {},
   "outputs": [],
   "source": [
    "import os \n",
    "import pandas as pd\n",
    "loop_length = 8 ## SET LOOP LENGTH HERE, TO 5 or 8!!\n",
    "input_file = 'preprocessed_files/mining_{}res_summary.csv'.format(loop_length)\n",
    "\n",
    "df = pd.read_csv(input_file)\n",
    "\n"
   ]
  },
  {
   "cell_type": "code",
   "execution_count": 5,
   "metadata": {},
   "outputs": [
    {
     "name": "stdout",
     "output_type": "stream",
     "text": [
      "{'MTOR', 'HCK'}\n"
     ]
    }
   ],
   "source": [
    "# If the loop length==5, the RMSD cutoff should be stricter, at 0.5\n",
    "if loop_length == 5:\n",
    "    df = df[df['RMSD'] <= 0.5]\n",
    "\n",
    "# If the loop length==8, the RMSD cutoff should be 0.75\n",
    "if loop_length == 8:\n",
    "    df = df[df['RMSD'] <= 0.75]\n",
    "\n",
    "paper_validated = ['CSNK1A1', 'CSNK1D', 'NEK7', 'SCYL1', 'WEE1', 'TRIB1', \\\n",
    "                   'TRIB3', 'PLK3', 'PDE6D', 'GSPT1', 'CHD7', 'LIMD1',\n",
    "                   'ASS1', 'WBP4', 'MNAT1', 'PPIL4',  'KIFC3', 'MTOR', 'HCK',\n",
    "                   'ZMYM2', 'IKZF1', 'SALL4', 'IKZF2']\n",
    "\n",
    "# Output a dataframe with just the paper results for easy verification\n",
    "\n",
    "# Filter the dataframe to only the genes in paper_validated\n",
    "paper_df = df[df['gene'].isin(paper_validated)]\n",
    "\n",
    "# From the list of paper_validated, print those that are not in paper_df\n",
    "print(set(paper_validated) - set(paper_df['gene'].values))"
   ]
  },
  {
   "cell_type": "code",
   "execution_count": 7,
   "metadata": {},
   "outputs": [
    {
     "name": "stdout",
     "output_type": "stream",
     "text": [
      "Total g-loops: 6315\n",
      "Total g-loop proteins: 1577\n"
     ]
    }
   ],
   "source": [
    "total_gloops = len(df)\n",
    "total_gloop_proteins = len(set(df['gene'].values))\n",
    "\n",
    "print('Total g-loops: {}'.format(total_gloops))\n",
    "print('Total g-loop proteins: {}'.format(total_gloop_proteins))"
   ]
  },
  {
   "cell_type": "code",
   "execution_count": 8,
   "metadata": {},
   "outputs": [],
   "source": [
    "# Open the list of extracellular domains. \n",
    "with open('../databases/extracellular_domains.list') as f: \n",
    "    extracellular_domains = f.read().splitlines()\n",
    "\n",
    "# Remove from df the extracellular domains\n",
    "df = df[~df['domain'].isin(extracellular_domains)]"
   ]
  },
  {
   "cell_type": "code",
   "execution_count": 9,
   "metadata": {},
   "outputs": [],
   "source": [
    "# Remove lines where the domain is nan\n",
    "df = df.dropna(subset=['domain'])\n",
    "\n",
    "# Remove lines where the degron is nan\n",
    "df = df.dropna(subset=['Degron'])"
   ]
  },
  {
   "cell_type": "code",
   "execution_count": 10,
   "metadata": {},
   "outputs": [
    {
     "name": "stdout",
     "output_type": "stream",
     "text": [
      "Total g-loops (no extracellular): 6123\n",
      "Total g-loop proteins (no extracellular): 1424\n"
     ]
    }
   ],
   "source": [
    "total_gloops = len(df)\n",
    "total_gloop_proteins = len(set(df['gene'].values))\n",
    "\n",
    "print('Total g-loops (no extracellular): {}'.format(total_gloops))\n",
    "print('Total g-loop proteins (no extracellular): {}'.format(total_gloop_proteins))"
   ]
  },
  {
   "cell_type": "code",
   "execution_count": 11,
   "metadata": {},
   "outputs": [
    {
     "name": "stdout",
     "output_type": "stream",
     "text": [
      "Length df =  6123\n",
      "C2H2 zinc finger g-loops: 5160\n",
      "Not C2H2 zinc finger g-loops: 963\n",
      "Sum of C2H2 and not C2H2: 6123\n"
     ]
    }
   ],
   "source": [
    "# Count how many g-loops are in C2H2 zinc fingers\n",
    "print ('Length df = ', len(df))\n",
    "c2h2 = df[df['C2H2'] == True]\n",
    "c2h2_count = len(c2h2)\n",
    "print('C2H2 zinc finger g-loops: {}'.format(c2h2_count))\n",
    "# Print how many are not C2H2\n",
    "not_c2h2 = df[df['C2H2'] == False]\n",
    "not_c2h2_count = len(not_c2h2)\n",
    "print('Not C2H2 zinc finger g-loops: {}'.format(not_c2h2_count))\n",
    "\n",
    "# Sum the two and make sure it is the same as the total\n",
    "print('Sum of C2H2 and not C2H2: {}'.format(c2h2_count + not_c2h2_count))"
   ]
  },
  {
   "cell_type": "code",
   "execution_count": 12,
   "metadata": {},
   "outputs": [],
   "source": [
    "# Use one G-loop per protein\n",
    "df_unique_gene = df.drop_duplicates(subset='gene')"
   ]
  },
  {
   "cell_type": "code",
   "execution_count": 13,
   "metadata": {},
   "outputs": [],
   "source": [
    "df.to_csv('preprocessed_files/mining_{}res_summary_noEC.csv'.format(loop_length), index=False)\n"
   ]
  },
  {
   "cell_type": "code",
   "execution_count": 14,
   "metadata": {},
   "outputs": [],
   "source": [
    "# Save a list of predicted ZF genes.\n",
    "c2h2_genes = df_unique_gene[df_unique_gene['C2H2'] ==  True ]['gene'].values\n",
    "c2h2_genes = set(c2h2_genes)\n",
    "with(open('preprocessed_files/c2h2_genes.txt', 'w')) as f:\n",
    "    for gene in c2h2_genes:\n",
    "        f.write(gene + '\\n')"
   ]
  },
  {
   "cell_type": "code",
   "execution_count": 15,
   "metadata": {},
   "outputs": [],
   "source": [
    "# Save a list of non-C2H2 genes\n",
    "non_c2h2_genes = df_unique_gene[df_unique_gene['C2H2'] ==  False ]['gene'].values\n",
    "non_c2h2_genes = set(non_c2h2_genes)\n",
    "with(open('preprocessed_files/non_c2h2_genes.txt', 'w')) as f:\n",
    "    for gene in non_c2h2_genes:\n",
    "        f.write(gene + '\\n')"
   ]
  },
  {
   "cell_type": "code",
   "execution_count": 16,
   "metadata": {},
   "outputs": [
    {
     "data": {
      "image/png": "[encoded data removed]",
      "text/plain": [
       "<Figure size 300x200 with 1 Axes>"
      ]
     },
     "metadata": {},
     "output_type": "display_data"
    }
   ],
   "source": [
    "import matplotlib.pyplot as plt\n",
    "import numpy as np\n",
    "\n",
    "# Values\n",
    "\n",
    "# Count the occurrences of True and False\n",
    "count_series = df['C2H2'].value_counts()\n",
    "count_series_unique = df_unique_gene['C2H2'].value_counts()\n",
    "\n",
    "a1, b1, a2, b2 = count_series[0], count_series[1], count_series_unique[0], count_series_unique[1]\n",
    "\n",
    "# Data setup\n",
    "values = [a1, a2, b1, b2]\n",
    "#group_labels = ['Non-C2H2', 'C2H2']\n",
    "group_labels = ['', '']\n",
    "# use pretty gray colors\n",
    "colors = ['#999999', '#666666']\n",
    "\n",
    "# Creating the bar plot\n",
    "fig, ax = plt.subplots(figsize=(3.0, 2.0))\n",
    "x = np.arange(len(group_labels))  # the label locations\n",
    "width = 0.35  # the width of the bars\n",
    "\n",
    "# Bars for a1, a2\n",
    "ax.bar(x - width/2, [a1, b1], width, label='Total', color=colors[0])\n",
    "\n",
    "# Bars for b1, b2\n",
    "ax.bar(x + width/2, [a2, b2], width, label='Unique proteins', color=colors[1])\n",
    "\n",
    "# Remove upper and right borders\n",
    "ax.spines['top'].set_visible(False)\n",
    "ax.spines['right'].set_visible(False)\n",
    "\n",
    "# Adding labels, title and custom x-axis tick labels, etc.\n",
    "#ax.set_ylabel('Count')\n",
    "\n",
    "ax.set_xticks(x)\n",
    "ax.set_xticklabels(group_labels)\n",
    "ax.set_yticklabels([])\n",
    "#ax.legend(loc='upper left')\n",
    "\n",
    "# Show plot\n",
    "#plt.show()\n",
    "if not os.path.exists('suppfig1'):\n",
    "    os.mkdir('suppfig1')\n",
    "# Use tight layout\n",
    "plt.tight_layout()\n",
    "plt.savefig('suppfig1/C2H2_vs_non_C2H2_{}.pdf'.format(loop_length), dpi=300, bbox_inches='tight')\n"
   ]
  },
  {
   "cell_type": "code",
   "execution_count": 17,
   "metadata": {},
   "outputs": [],
   "source": [
    "\n",
    "def categorize_ss(x):\n",
    "    \n",
    "    if (('E' in x) or ('B' in x)) and 'H' not in x:\n",
    "        return 'Beta hairpin\\n(non-C2H2)'\n",
    "    elif 'HHH' in x:\n",
    "        return 'Helical'\n",
    "    else:\n",
    "        return 'Other'\n",
    "\n",
    "\n",
    "df['Category'] = df['SS'].apply(categorize_ss)\n",
    "# for every row, if the C2H2 column is True, then the value of the Category column is 'C2H2 ZF', otherwisethe value is unchanged \n",
    "df['Category'] = df.apply(lambda x: 'C2H2 ZF' if x['C2H2'] else x['Category'], axis=1)\n",
    "\n",
    "category_counts = df['Category'].value_counts()\n"
   ]
  },
  {
   "cell_type": "code",
   "execution_count": 18,
   "metadata": {},
   "outputs": [
    {
     "data": {
      "text/plain": [
       "Category\n",
       "C2H2 ZF                     5160\n",
       "Beta hairpin\\n(non-C2H2)     911\n",
       "Other                         52\n",
       "Name: count, dtype: int64"
      ]
     },
     "execution_count": 18,
     "metadata": {},
     "output_type": "execute_result"
    }
   ],
   "source": [
    "category_counts"
   ]
  },
  {
   "cell_type": "markdown",
   "metadata": {},
   "source": [
    "### Plot all identified G-loops"
   ]
  },
  {
   "cell_type": "code",
   "execution_count": 19,
   "metadata": {},
   "outputs": [
    {
     "data": {
      "image/png": "[encoded data removed]",
      "text/plain": [
       "<Figure size 150x150 with 1 Axes>"
      ]
     },
     "metadata": {},
     "output_type": "display_data"
    }
   ],
   "source": [
    "\n",
    "\n",
    "import matplotlib.pyplot as plt\n",
    "import matplotlib\n",
    "matplotlib.rcParams['font.family'] = 'Helvetica'\n",
    "matplotlib.rcParams['font.size']= 5\n",
    "\n",
    "def categorize_ss(x):\n",
    "    \n",
    "    if (('E' in x) or ('B' in x)) and 'H' not in x:\n",
    "        return 'Beta hairpin\\n(non-C2H2)'\n",
    "    elif 'HHH' in x:\n",
    "        return 'Helical'\n",
    "    else:\n",
    "        return 'Other'\n",
    "\n",
    "\n",
    "df['Category'] = df['SS'].apply(categorize_ss)\n",
    "# for every row, if the C2H2 column is True, then the value of the Category column is 'C2H2 ZF', otherwisethe value is unchanged \n",
    "df['Category'] = df.apply(lambda x: 'C2H2 ZF' if x['C2H2'] else x['Category'], axis=1)\n",
    "\n",
    "category_counts = df['Category'].value_counts()\n",
    "total_proteins = category_counts.sum()\n",
    "textprops = {'color': \"black\", 'fontsize': 5}  # Increase fontsize as needed\n",
    "\n",
    "fig1, ax1 = plt.subplots()\n",
    "fig1.set_size_inches(1.5, 1.5)\n",
    "#colors = ['#D3D3D3', '#A9A9A9', '#696969']\n",
    "#colors = ['#89CFF0', '#F88379', '#98FB98']  # Soft pastel colors\n",
    "if loop_length == 8:\n",
    "    colors = ['#CCCCCC', '#FF7F50', '#FFD700']  # Gray, coral, lavender, gold\n",
    "elif loop_length == 5:\n",
    "    colors = ['#CCCCCC', '#FF7F50', '#89CFF0', '#FFD700']  # Gray, coral, lavender, gold\n",
    "\n",
    "#colors = ['#4c72b0', '#55a868', '#c44e52']  # Blue, green, red in hex\n",
    "\n",
    "categories = category_counts.index\n",
    "\n",
    "\n",
    "\n",
    "hatch = ['//', 'OO', '.']\n",
    "if loop_length == 5:\n",
    "    explode = (0.0, 0.0, 0.2, 0)\n",
    "    wedges, texts, autotexts = ax1.pie(category_counts, startangle=40, colors=colors, textprops=textprops,\n",
    "                                   wedgeprops={'width': 0.3, 'edgecolor': 'black', 'linewidth': 0.25}, autopct='',\n",
    "                                   explode = explode)\n",
    "elif loop_length == 8:\n",
    "    explode = (0.0, 0.0, 0)  # explode 1st slice\n",
    "    wedges, texts, autotexts = ax1.pie(category_counts, startangle=85, colors=colors, textprops=textprops,\n",
    "                                   wedgeprops={'width': 0.3, 'edgecolor': 'black', 'linewidth': 0.25},\n",
    "                                                autopct='', explode=explode)\n",
    "\n",
    "# Adding annotations with arrows\n",
    "bbox_props = dict(boxstyle=\"square,pad=0.3\", fc=\"w\", ec=\"k\", lw=0.0)\n",
    "kw = dict(xycoords='data', textcoords='data', arrowprops=dict(arrowstyle=\"-\"),\n",
    "          bbox=bbox_props, zorder=0, va='center')\n",
    "\n",
    "\n",
    "unique_gene_count = len(set(df['gene'].values))\n",
    "if loop_length == 5:\n",
    "    ax1.text(0, 0, f'{unique_gene_count}\\n minimal G-loop\\n motifs\\n in proteome', ha='center', va='center', fontsize=5)\n",
    "else:\n",
    "    ax1.text(0, 0, f'{total_proteins}\\n G-loop\\n motifs\\n in proteome', ha='center', va='center', fontsize=5)\n",
    "#plt.tight_layout()\n",
    "if not os.path.exists('fig1'):\n",
    "    os.mkdir('fig1')\n",
    "plt.savefig('fig1/Secondary_structure_all{}.pdf'.format(loop_length), dpi=300)\n",
    "plt.show()\n"
   ]
  },
  {
   "cell_type": "markdown",
   "metadata": {},
   "source": [
    "### Plot only one G-loop per protein"
   ]
  },
  {
   "cell_type": "code",
   "execution_count": 20,
   "metadata": {},
   "outputs": [
    {
     "name": "stderr",
     "output_type": "stream",
     "text": [
      "/var/folders/nq/c118s1k508g8jf83mwb03yq40000gn/T/ipykernel_12550/984344629.py:16: SettingWithCopyWarning: \n",
      "A value is trying to be set on a copy of a slice from a DataFrame.\n",
      "Try using .loc[row_indexer,col_indexer] = value instead\n",
      "\n",
      "See the caveats in the documentation: https://pandas.pydata.org/pandas-docs/stable/user_guide/indexing.html#returning-a-view-versus-a-copy\n",
      "  df_unique_gene['Category'] = df_unique_gene['SS'].apply(categorize_ss)\n",
      "/var/folders/nq/c118s1k508g8jf83mwb03yq40000gn/T/ipykernel_12550/984344629.py:18: SettingWithCopyWarning: \n",
      "A value is trying to be set on a copy of a slice from a DataFrame.\n",
      "Try using .loc[row_indexer,col_indexer] = value instead\n",
      "\n",
      "See the caveats in the documentation: https://pandas.pydata.org/pandas-docs/stable/user_guide/indexing.html#returning-a-view-versus-a-copy\n",
      "  df_unique_gene['Category'] = df_unique_gene.apply(lambda x: 'C2H2 ZF' if x['C2H2'] else x['Category'], axis=1)\n"
     ]
    },
    {
     "data": {
      "image/png": "[encoded data removed]",
      "text/plain": [
       "<Figure size 150x150 with 1 Axes>"
      ]
     },
     "metadata": {},
     "output_type": "display_data"
    }
   ],
   "source": [
    "import matplotlib.pyplot as plt\n",
    "import matplotlib\n",
    "matplotlib.rcParams['font.family'] = 'Helvetica'\n",
    "matplotlib.rcParams['font.size']= 5\n",
    "\n",
    "def categorize_ss(x):\n",
    "    \n",
    "    if (('E' in x) or ('B' in x)) and 'H' not in x:\n",
    "        return 'Beta hairpin\\n(non-C2H2)'\n",
    "    elif 'HHH' in x:\n",
    "        return 'Helical'\n",
    "    else:\n",
    "        return 'Other'\n",
    "\n",
    "\n",
    "df_unique_gene['Category'] = df_unique_gene['SS'].apply(categorize_ss)\n",
    "# for every row, if the C2H2 column is True, then the value of the Category column is 'C2H2 ZF', otherwisethe value is unchanged \n",
    "df_unique_gene['Category'] = df_unique_gene.apply(lambda x: 'C2H2 ZF' if x['C2H2'] else x['Category'], axis=1)\n",
    "\n",
    "category_counts = df_unique_gene['Category'].value_counts()\n",
    "total_proteins = category_counts.sum()\n",
    "textprops = {'color': \"black\", 'fontsize': 5}  # Increase fontsize as needed\n",
    "\n",
    "fig1, ax1 = plt.subplots()\n",
    "fig1.set_size_inches(1.5, 1.5)\n",
    "#colors = ['#D3D3D3', '#A9A9A9', '#696969']\n",
    "#colors = ['#89CFF0', '#F88379', '#98FB98']  # Soft pastel colors\n",
    "if loop_length == 8:\n",
    "    colors = ['#CCCCCC', '#FF7F50', '#FFD700']  # Gray, coral, lavender, gold\n",
    "elif loop_length == 5:\n",
    "    colors = ['#CCCCCC', '#FF7F50', '#89CFF0', '#FFD700']  # Gray, coral, lavender, gold\n",
    "\n",
    "#colors = ['#4c72b0', '#55a868', '#c44e52']  # Blue, green, red in hex\n",
    "\n",
    "categories = category_counts.index\n",
    "\n",
    "\n",
    "\n",
    "hatch = ['//', 'OO', '.']\n",
    "if loop_length == 5:\n",
    "    explode = (0.0, 0.0, 0.2, 0)\n",
    "    wedges, texts, autotexts = ax1.pie(category_counts, startangle=40, colors=colors, textprops=textprops,\n",
    "                                   wedgeprops={'width': 0.3, 'edgecolor': 'black', 'linewidth': 0.25}, autopct='',\n",
    "                                   explode = explode)\n",
    "elif loop_length == 8:\n",
    "    explode = (0.0, 0.0, 0)  # explode 1st slice\n",
    "    wedges, texts, autotexts = ax1.pie(category_counts, startangle=85, colors=colors, textprops=textprops,\n",
    "                                   wedgeprops={'width': 0.3, 'edgecolor': 'black', 'linewidth': 0.25},\n",
    "                                                autopct='', explode=explode)\n",
    "\n",
    "# Adding annotations with arrows\n",
    "bbox_props = dict(boxstyle=\"square,pad=0.3\", fc=\"w\", ec=\"k\", lw=0.0)\n",
    "kw = dict(xycoords='data', textcoords='data', arrowprops=dict(arrowstyle=\"-\"),\n",
    "          bbox=bbox_props, zorder=0, va='center')\n",
    "\n",
    "\n",
    "unique_gene_count = len(set(df_unique_gene['gene'].values))\n",
    "if loop_length == 5:\n",
    "    ax1.text(0, 0, f'{unique_gene_count}\\n minimal G-loop\\n proteins', ha='center', va='center', fontsize=5)\n",
    "else:\n",
    "    ax1.text(0, 0, f'{total_proteins}\\n G-loop\\n proteins', ha='center', va='center', fontsize=5)\n",
    "#plt.tight_layout()\n",
    "if not os.path.exists('fig1'):\n",
    "    os.mkdir('fig1')\n",
    "plt.savefig('fig1/Secondary_structure_{}.pdf'.format(loop_length), dpi=300)\n",
    "plt.show()\n"
   ]
  },
  {
   "cell_type": "code",
   "execution_count": 24,
   "metadata": {},
   "outputs": [
    {
     "data": {
      "text/plain": [
       "Category\n",
       "Beta hairpin\\n(non-C2H2)    737\n",
       "C2H2 ZF                     646\n",
       "Other                        41\n",
       "Name: count, dtype: int64"
      ]
     },
     "execution_count": 24,
     "metadata": {},
     "output_type": "execute_result"
    }
   ],
   "source": [
    "df_all_gloops = df\n",
    "df = df_unique_gene\n",
    "\n",
    "category_counts\n",
    "\n"
   ]
  },
  {
   "cell_type": "code",
   "execution_count": 25,
   "metadata": {},
   "outputs": [],
   "source": [
    "helical_df = df[df['Category'] == 'Helical']\n",
    "# print all rows of helical_df\n",
    "# reset index\n",
    "helical_df = helical_df.reset_index(drop=True)"
   ]
  },
  {
   "cell_type": "code",
   "execution_count": 26,
   "metadata": {},
   "outputs": [
    {
     "name": "stdout",
     "output_type": "stream",
     "text": [
      "Kinase domain\n",
      "Other            1267\n",
      "Kinase domain     157\n",
      "Name: count, dtype: int64\n"
     ]
    },
    {
     "name": "stderr",
     "output_type": "stream",
     "text": [
      "/var/folders/nq/c118s1k508g8jf83mwb03yq40000gn/T/ipykernel_12550/3673524359.py:2: SettingWithCopyWarning: \n",
      "A value is trying to be set on a copy of a slice from a DataFrame.\n",
      "Try using .loc[row_indexer,col_indexer] = value instead\n",
      "\n",
      "See the caveats in the documentation: https://pandas.pydata.org/pandas-docs/stable/user_guide/indexing.html#returning-a-view-versus-a-copy\n",
      "  df['Kinase domain'] = df['domain'].apply(lambda x: 'Kinase domain' if 'kinase' in x else 'Other')\n"
     ]
    }
   ],
   "source": [
    "# Count for how many it is found on the kinase domain\n",
    "df['Kinase domain'] = df['domain'].apply(lambda x: 'Kinase domain' if 'kinase' in x else 'Other')\n",
    "category_counts = df['Kinase domain'].value_counts()\n",
    "print(category_counts)"
   ]
  },
  {
   "cell_type": "markdown",
   "metadata": {},
   "source": [
    "# Plot protein by processes or molecular function."
   ]
  },
  {
   "cell_type": "code",
   "execution_count": 27,
   "metadata": {},
   "outputs": [
    {
     "name": "stdout",
     "output_type": "stream",
     "text": [
      "778\n"
     ]
    }
   ],
   "source": [
    "# Remove all rows with C2H2 ZF as the category\n",
    "# Remove entries where the degron is NaN\n",
    "\n",
    "c2h2 = df[df['Category'] == 'C2H2 ZF']\n",
    "nonc2h2 = df[df['Category'] == 'Beta hairpin\\n(non-C2H2)']\n",
    "helical_df = df[df['Category'] == 'Helical']\n",
    "other_df = df[df['Category'] == 'Other']\n",
    "kinase_df = df[df['Kinase domain'] == 'Kinase domain']\n",
    "\n",
    "df = df[df['Category'] != 'C2H2 ZF']\n",
    "print(len(df))\n",
    "\n",
    "if loop_length == 8:\n",
    "    df = nonc2h2\n",
    "\n",
    "if loop_length == 5:\n",
    "    df = helical_df"
   ]
  },
  {
   "cell_type": "code",
   "execution_count": 28,
   "metadata": {},
   "outputs": [
    {
     "data": {
      "text/html": [
       "<div>\n",
       "<style scoped>\n",
       "    .dataframe tbody tr th:only-of-type {\n",
       "        vertical-align: middle;\n",
       "    }\n",
       "\n",
       "    .dataframe tbody tr th {\n",
       "        vertical-align: top;\n",
       "    }\n",
       "\n",
       "    .dataframe thead th {\n",
       "        text-align: right;\n",
       "    }\n",
       "</style>\n",
       "<table border=\"1\" class=\"dataframe\">\n",
       "  <thead>\n",
       "    <tr style=\"text-align: right;\">\n",
       "      <th></th>\n",
       "      <th>Unnamed: 0</th>\n",
       "      <th>PDBID</th>\n",
       "      <th>RMSD</th>\n",
       "      <th>Clashing_CA</th>\n",
       "      <th>Clashing</th>\n",
       "      <th>Res0</th>\n",
       "      <th>Res1</th>\n",
       "      <th>Res2</th>\n",
       "      <th>Res3</th>\n",
       "      <th>Res4</th>\n",
       "      <th>...</th>\n",
       "      <th>uniprot</th>\n",
       "      <th>domain</th>\n",
       "      <th>domain_fn</th>\n",
       "      <th>start</th>\n",
       "      <th>end</th>\n",
       "      <th>key</th>\n",
       "      <th>compound_score</th>\n",
       "      <th>C2H2</th>\n",
       "      <th>Category</th>\n",
       "      <th>Kinase domain</th>\n",
       "    </tr>\n",
       "  </thead>\n",
       "  <tbody>\n",
       "    <tr>\n",
       "      <th>0</th>\n",
       "      <td>0</td>\n",
       "      <td>5fqd_C</td>\n",
       "      <td>0.000467</td>\n",
       "      <td>0.0</td>\n",
       "      <td>0.0</td>\n",
       "      <td>ILE 35</td>\n",
       "      <td>ASN 36</td>\n",
       "      <td>ILE 37</td>\n",
       "      <td>THR 38</td>\n",
       "      <td>ASN 39</td>\n",
       "      <td>...</td>\n",
       "      <td>P48729</td>\n",
       "      <td>Protein kinase domain</td>\n",
       "      <td>NaN</td>\n",
       "      <td>1.0</td>\n",
       "      <td>337.0</td>\n",
       "      <td>CSNK1A1:ILE 35:ASN 36:ILE 37:THR 38:ASN 39:</td>\n",
       "      <td>2140.108411</td>\n",
       "      <td>0</td>\n",
       "      <td>Beta hairpin\\n(non-C2H2)</td>\n",
       "      <td>Kinase domain</td>\n",
       "    </tr>\n",
       "    <tr>\n",
       "      <th>2</th>\n",
       "      <td>5</td>\n",
       "      <td>CSNK1A1LxProtein-kinase-domain-17-285_A</td>\n",
       "      <td>0.172094</td>\n",
       "      <td>0.0</td>\n",
       "      <td>5.0</td>\n",
       "      <td>ILE 35</td>\n",
       "      <td>THR 36</td>\n",
       "      <td>THR 37</td>\n",
       "      <td>THR 38</td>\n",
       "      <td>ASN 39</td>\n",
       "      <td>...</td>\n",
       "      <td>Q8N752</td>\n",
       "      <td>Protein kinase domain</td>\n",
       "      <td>Protein-kinase-domain</td>\n",
       "      <td>17.0</td>\n",
       "      <td>285.0</td>\n",
       "      <td>CSNK1A1L:ILE 35:THR 36:THR 37:THR 38:ASN 39:</td>\n",
       "      <td>5.810767</td>\n",
       "      <td>0</td>\n",
       "      <td>Beta hairpin\\n(non-C2H2)</td>\n",
       "      <td>Kinase domain</td>\n",
       "    </tr>\n",
       "    <tr>\n",
       "      <th>51</th>\n",
       "      <td>81</td>\n",
       "      <td>PAK4xProtein-kinase-domain-326-572_A</td>\n",
       "      <td>0.205355</td>\n",
       "      <td>1.0</td>\n",
       "      <td>2.0</td>\n",
       "      <td>THR 339</td>\n",
       "      <td>VAL 340</td>\n",
       "      <td>ARG 341</td>\n",
       "      <td>SER 342</td>\n",
       "      <td>SER 343</td>\n",
       "      <td>...</td>\n",
       "      <td>O96013</td>\n",
       "      <td>Protein kinase domain</td>\n",
       "      <td>Protein-kinase-domain</td>\n",
       "      <td>326.0</td>\n",
       "      <td>572.0</td>\n",
       "      <td>PAK4:THR 339:VAL 340:ARG 341:SER 342:SER 343:</td>\n",
       "      <td>4.869606</td>\n",
       "      <td>0</td>\n",
       "      <td>Beta hairpin\\n(non-C2H2)</td>\n",
       "      <td>Kinase domain</td>\n",
       "    </tr>\n",
       "    <tr>\n",
       "      <th>73</th>\n",
       "      <td>115</td>\n",
       "      <td>MYO3BxProtein-kinase-domain-27-293_A</td>\n",
       "      <td>0.210143</td>\n",
       "      <td>1.0</td>\n",
       "      <td>5.0</td>\n",
       "      <td>THR 45</td>\n",
       "      <td>ASN 46</td>\n",
       "      <td>LYS 47</td>\n",
       "      <td>ARG 48</td>\n",
       "      <td>ASP 49</td>\n",
       "      <td>...</td>\n",
       "      <td>Q8WXR4</td>\n",
       "      <td>Protein kinase domain</td>\n",
       "      <td>Protein-kinase-domain</td>\n",
       "      <td>27.0</td>\n",
       "      <td>293.0</td>\n",
       "      <td>MYO3B:THR 45:ASN 46:LYS 47:ARG 48:ASP 49:</td>\n",
       "      <td>4.758663</td>\n",
       "      <td>0</td>\n",
       "      <td>Beta hairpin\\n(non-C2H2)</td>\n",
       "      <td>Kinase domain</td>\n",
       "    </tr>\n",
       "    <tr>\n",
       "      <th>78</th>\n",
       "      <td>125</td>\n",
       "      <td>5kbr_B</td>\n",
       "      <td>0.210823</td>\n",
       "      <td>1.0</td>\n",
       "      <td>8.0</td>\n",
       "      <td>MET 288</td>\n",
       "      <td>ASP 289</td>\n",
       "      <td>VAL 290</td>\n",
       "      <td>ALA 291</td>\n",
       "      <td>THR 292</td>\n",
       "      <td>...</td>\n",
       "      <td>Q13153</td>\n",
       "      <td>Protein kinase domain</td>\n",
       "      <td>NaN</td>\n",
       "      <td>254.0</td>\n",
       "      <td>542.0</td>\n",
       "      <td>PAK1:MET 288:ASP 289:VAL 290:ALA 291:THR 292:</td>\n",
       "      <td>4.743314</td>\n",
       "      <td>0</td>\n",
       "      <td>Beta hairpin\\n(non-C2H2)</td>\n",
       "      <td>Kinase domain</td>\n",
       "    </tr>\n",
       "    <tr>\n",
       "      <th>...</th>\n",
       "      <td>...</td>\n",
       "      <td>...</td>\n",
       "      <td>...</td>\n",
       "      <td>...</td>\n",
       "      <td>...</td>\n",
       "      <td>...</td>\n",
       "      <td>...</td>\n",
       "      <td>...</td>\n",
       "      <td>...</td>\n",
       "      <td>...</td>\n",
       "      <td>...</td>\n",
       "      <td>...</td>\n",
       "      <td>...</td>\n",
       "      <td>...</td>\n",
       "      <td>...</td>\n",
       "      <td>...</td>\n",
       "      <td>...</td>\n",
       "      <td>...</td>\n",
       "      <td>...</td>\n",
       "      <td>...</td>\n",
       "      <td>...</td>\n",
       "    </tr>\n",
       "    <tr>\n",
       "      <th>6110</th>\n",
       "      <td>12839</td>\n",
       "      <td>NRBP1xProtein-kinase-domain-68-327_A</td>\n",
       "      <td>0.594249</td>\n",
       "      <td>0.0</td>\n",
       "      <td>8.0</td>\n",
       "      <td>MET 86</td>\n",
       "      <td>ASP 87</td>\n",
       "      <td>THR 88</td>\n",
       "      <td>GLU 89</td>\n",
       "      <td>GLU 90</td>\n",
       "      <td>...</td>\n",
       "      <td>Q9UHY1</td>\n",
       "      <td>Protein kinase domain</td>\n",
       "      <td>Protein-kinase-domain</td>\n",
       "      <td>68.0</td>\n",
       "      <td>327.0</td>\n",
       "      <td>NRBP1:MET 86:ASP 87:THR 88:GLU 89:GLU 90:</td>\n",
       "      <td>1.682797</td>\n",
       "      <td>0</td>\n",
       "      <td>Beta hairpin\\n(non-C2H2)</td>\n",
       "      <td>Kinase domain</td>\n",
       "    </tr>\n",
       "    <tr>\n",
       "      <th>6114</th>\n",
       "      <td>12852</td>\n",
       "      <td>NRBP2xProtein-kinase-domain-38-306_A</td>\n",
       "      <td>0.597788</td>\n",
       "      <td>0.0</td>\n",
       "      <td>6.0</td>\n",
       "      <td>MET 59</td>\n",
       "      <td>ASP 60</td>\n",
       "      <td>THR 61</td>\n",
       "      <td>GLU 62</td>\n",
       "      <td>GLU 63</td>\n",
       "      <td>...</td>\n",
       "      <td>Q9NSY0</td>\n",
       "      <td>Protein kinase domain</td>\n",
       "      <td>Protein-kinase-domain</td>\n",
       "      <td>38.0</td>\n",
       "      <td>306.0</td>\n",
       "      <td>NRBP2:MET 59:ASP 60:THR 61:GLU 62:GLU 63:</td>\n",
       "      <td>1.672834</td>\n",
       "      <td>0</td>\n",
       "      <td>Beta hairpin\\n(non-C2H2)</td>\n",
       "      <td>Kinase domain</td>\n",
       "    </tr>\n",
       "    <tr>\n",
       "      <th>6263</th>\n",
       "      <td>13268</td>\n",
       "      <td>SCUBE1xTyrosine-protein-kinase-ephrin-type-A-B...</td>\n",
       "      <td>0.703886</td>\n",
       "      <td>0.0</td>\n",
       "      <td>5.0</td>\n",
       "      <td>PHE 639</td>\n",
       "      <td>GLY 640</td>\n",
       "      <td>GLY 641</td>\n",
       "      <td>GLU 642</td>\n",
       "      <td>LEU 643</td>\n",
       "      <td>...</td>\n",
       "      <td>Q8IWY4</td>\n",
       "      <td>Tyrosine-protein kinase ephrin type A/B recept...</td>\n",
       "      <td>Tyrosine-protein-kinase-ephrin-type-A-B-recept...</td>\n",
       "      <td>636.0</td>\n",
       "      <td>683.0</td>\n",
       "      <td>SCUBE1:PHE 639:GLY 640:GLY 641:GLU 642:LEU 643:</td>\n",
       "      <td>1.420684</td>\n",
       "      <td>0</td>\n",
       "      <td>Beta hairpin\\n(non-C2H2)</td>\n",
       "      <td>Kinase domain</td>\n",
       "    </tr>\n",
       "    <tr>\n",
       "      <th>6291</th>\n",
       "      <td>13355</td>\n",
       "      <td>3e7o_A</td>\n",
       "      <td>0.725548</td>\n",
       "      <td>0.0</td>\n",
       "      <td>6.0</td>\n",
       "      <td>PHE 44</td>\n",
       "      <td>ASP 45</td>\n",
       "      <td>THR 46</td>\n",
       "      <td>VAL 47</td>\n",
       "      <td>LEU 48</td>\n",
       "      <td>...</td>\n",
       "      <td>P45984</td>\n",
       "      <td>Protein kinase domain</td>\n",
       "      <td>NaN</td>\n",
       "      <td>7.0</td>\n",
       "      <td>362.0</td>\n",
       "      <td>MAPK9:PHE 44:ASP 45:THR 46:VAL 47:LEU 48:</td>\n",
       "      <td>1.378269</td>\n",
       "      <td>0</td>\n",
       "      <td>Beta hairpin\\n(non-C2H2)</td>\n",
       "      <td>Kinase domain</td>\n",
       "    </tr>\n",
       "    <tr>\n",
       "      <th>6300</th>\n",
       "      <td>13396</td>\n",
       "      <td>PRKCDxProtein-kinase-domain-352-603_A</td>\n",
       "      <td>0.738186</td>\n",
       "      <td>1.0</td>\n",
       "      <td>8.0</td>\n",
       "      <td>GLU 367</td>\n",
       "      <td>LEU 368</td>\n",
       "      <td>LYS 369</td>\n",
       "      <td>GLY 370</td>\n",
       "      <td>ARG 371</td>\n",
       "      <td>...</td>\n",
       "      <td>Q05655</td>\n",
       "      <td>Protein kinase domain</td>\n",
       "      <td>Protein-kinase-domain</td>\n",
       "      <td>352.0</td>\n",
       "      <td>603.0</td>\n",
       "      <td>PRKCD:GLU 367:LEU 368:LYS 369:GLY 370:ARG 371:</td>\n",
       "      <td>1.354672</td>\n",
       "      <td>0</td>\n",
       "      <td>Beta hairpin\\n(non-C2H2)</td>\n",
       "      <td>Kinase domain</td>\n",
       "    </tr>\n",
       "  </tbody>\n",
       "</table>\n",
       "<p>157 rows × 26 columns</p>\n",
       "</div>"
      ],
      "text/plain": [
       "      Unnamed: 0                                              PDBID      RMSD  \\\n",
       "0              0                                             5fqd_C  0.000467   \n",
       "2              5            CSNK1A1LxProtein-kinase-domain-17-285_A  0.172094   \n",
       "51            81               PAK4xProtein-kinase-domain-326-572_A  0.205355   \n",
       "73           115               MYO3BxProtein-kinase-domain-27-293_A  0.210143   \n",
       "78           125                                             5kbr_B  0.210823   \n",
       "...          ...                                                ...       ...   \n",
       "6110       12839               NRBP1xProtein-kinase-domain-68-327_A  0.594249   \n",
       "6114       12852               NRBP2xProtein-kinase-domain-38-306_A  0.597788   \n",
       "6263       13268  SCUBE1xTyrosine-protein-kinase-ephrin-type-A-B...  0.703886   \n",
       "6291       13355                                             3e7o_A  0.725548   \n",
       "6300       13396              PRKCDxProtein-kinase-domain-352-603_A  0.738186   \n",
       "\n",
       "      Clashing_CA  Clashing     Res0     Res1     Res2     Res3     Res4  ...  \\\n",
       "0             0.0       0.0   ILE 35   ASN 36   ILE 37   THR 38   ASN 39  ...   \n",
       "2             0.0       5.0   ILE 35   THR 36   THR 37   THR 38   ASN 39  ...   \n",
       "51            1.0       2.0  THR 339  VAL 340  ARG 341  SER 342  SER 343  ...   \n",
       "73            1.0       5.0   THR 45   ASN 46   LYS 47   ARG 48   ASP 49  ...   \n",
       "78            1.0       8.0  MET 288  ASP 289  VAL 290  ALA 291  THR 292  ...   \n",
       "...           ...       ...      ...      ...      ...      ...      ...  ...   \n",
       "6110          0.0       8.0   MET 86   ASP 87   THR 88   GLU 89   GLU 90  ...   \n",
       "6114          0.0       6.0   MET 59   ASP 60   THR 61   GLU 62   GLU 63  ...   \n",
       "6263          0.0       5.0  PHE 639  GLY 640  GLY 641  GLU 642  LEU 643  ...   \n",
       "6291          0.0       6.0   PHE 44   ASP 45   THR 46   VAL 47   LEU 48  ...   \n",
       "6300          1.0       8.0  GLU 367  LEU 368  LYS 369  GLY 370  ARG 371  ...   \n",
       "\n",
       "     uniprot                                             domain  \\\n",
       "0     P48729                              Protein kinase domain   \n",
       "2     Q8N752                              Protein kinase domain   \n",
       "51    O96013                              Protein kinase domain   \n",
       "73    Q8WXR4                              Protein kinase domain   \n",
       "78    Q13153                              Protein kinase domain   \n",
       "...      ...                                                ...   \n",
       "6110  Q9UHY1                              Protein kinase domain   \n",
       "6114  Q9NSY0                              Protein kinase domain   \n",
       "6263  Q8IWY4  Tyrosine-protein kinase ephrin type A/B recept...   \n",
       "6291  P45984                              Protein kinase domain   \n",
       "6300  Q05655                              Protein kinase domain   \n",
       "\n",
       "                                              domain_fn  start    end  \\\n",
       "0                                                   NaN    1.0  337.0   \n",
       "2                                 Protein-kinase-domain   17.0  285.0   \n",
       "51                                Protein-kinase-domain  326.0  572.0   \n",
       "73                                Protein-kinase-domain   27.0  293.0   \n",
       "78                                                  NaN  254.0  542.0   \n",
       "...                                                 ...    ...    ...   \n",
       "6110                              Protein-kinase-domain   68.0  327.0   \n",
       "6114                              Protein-kinase-domain   38.0  306.0   \n",
       "6263  Tyrosine-protein-kinase-ephrin-type-A-B-recept...  636.0  683.0   \n",
       "6291                                                NaN    7.0  362.0   \n",
       "6300                              Protein-kinase-domain  352.0  603.0   \n",
       "\n",
       "                                                  key compound_score C2H2  \\\n",
       "0         CSNK1A1:ILE 35:ASN 36:ILE 37:THR 38:ASN 39:    2140.108411    0   \n",
       "2        CSNK1A1L:ILE 35:THR 36:THR 37:THR 38:ASN 39:       5.810767    0   \n",
       "51      PAK4:THR 339:VAL 340:ARG 341:SER 342:SER 343:       4.869606    0   \n",
       "73          MYO3B:THR 45:ASN 46:LYS 47:ARG 48:ASP 49:       4.758663    0   \n",
       "78      PAK1:MET 288:ASP 289:VAL 290:ALA 291:THR 292:       4.743314    0   \n",
       "...                                               ...            ...  ...   \n",
       "6110        NRBP1:MET 86:ASP 87:THR 88:GLU 89:GLU 90:       1.682797    0   \n",
       "6114        NRBP2:MET 59:ASP 60:THR 61:GLU 62:GLU 63:       1.672834    0   \n",
       "6263  SCUBE1:PHE 639:GLY 640:GLY 641:GLU 642:LEU 643:       1.420684    0   \n",
       "6291        MAPK9:PHE 44:ASP 45:THR 46:VAL 47:LEU 48:       1.378269    0   \n",
       "6300   PRKCD:GLU 367:LEU 368:LYS 369:GLY 370:ARG 371:       1.354672    0   \n",
       "\n",
       "                      Category  Kinase domain  \n",
       "0     Beta hairpin\\n(non-C2H2)  Kinase domain  \n",
       "2     Beta hairpin\\n(non-C2H2)  Kinase domain  \n",
       "51    Beta hairpin\\n(non-C2H2)  Kinase domain  \n",
       "73    Beta hairpin\\n(non-C2H2)  Kinase domain  \n",
       "78    Beta hairpin\\n(non-C2H2)  Kinase domain  \n",
       "...                        ...            ...  \n",
       "6110  Beta hairpin\\n(non-C2H2)  Kinase domain  \n",
       "6114  Beta hairpin\\n(non-C2H2)  Kinase domain  \n",
       "6263  Beta hairpin\\n(non-C2H2)  Kinase domain  \n",
       "6291  Beta hairpin\\n(non-C2H2)  Kinase domain  \n",
       "6300  Beta hairpin\\n(non-C2H2)  Kinase domain  \n",
       "\n",
       "[157 rows x 26 columns]"
      ]
     },
     "execution_count": 28,
     "metadata": {},
     "output_type": "execute_result"
    }
   ],
   "source": [
    "kinase_df"
   ]
  },
  {
   "cell_type": "code",
   "execution_count": 29,
   "metadata": {},
   "outputs": [],
   "source": [
    "# Save the dataframe to a new file\n",
    "uniprots = df['uniprot']\n",
    "\n",
    "uniprots = uniprots.drop_duplicates()\n",
    "uniprots.to_csv('preprocessed_files/mining_{}_uniprots.csv'.format(loop_length), index=False)\n",
    "\n"
   ]
  },
  {
   "cell_type": "code",
   "execution_count": 30,
   "metadata": {},
   "outputs": [],
   "source": [
    "uniprot_to_panther_gloops = uniprot_to_panther[uniprot_to_panther['uniprot'].isin(uniprots)]\n",
    "df_noduplicates = df.drop_duplicates(subset='uniprot')\n",
    "# Add the gene name from the df dataframe\n",
    "uniprot_to_panther_gloops = uniprot_to_panther_gloops.merge(df_noduplicates[['uniprot', 'gene']], on='uniprot', how='left')\n",
    "\n",
    "panther_name_conversion = {\n",
    "    \"non-receptor serine/threonine protein kinase(PC00167)\": \"Ser/Thr kinase\",\n",
    "    \"scaffold/adaptor protein(PC00226)\": \"Scaffold protein\",\n",
    "    \"cysteine protease(PC00081)\": \"Cysteine protease\",\n",
    "    \"ubiquitin-protein ligase(PC00234)\": \"Ubiquitin ligase\",\n",
    "    \"RNA metabolism protein(PC00031)\": \"RNA metabolism protein\",\n",
    "    \"actin or actin-binding cytoskeletal protein(PC00041)\": \"Actin-binding protein\",\n",
    "    \"chromatin/chromatin-binding, or -regulatory protein(PC00077)\": \"Chromatin protein\",\n",
    "    \"transmembrane signal receptor(PC00197)\": \"Signal receptor\",\n",
    "    \"translation initiation factor(PC00224)\": \"Translation factor\",\n",
    "    \"DNA metabolism protein(PC00009)\": \"DNA metabolism protein\",\n",
    "    \"ion channel(PC00133)\": \"Ion channel\",\n",
    "    \"RNA splicing factor(PC00148)\": \"RNA splicing factor\",\n",
    "    \"Hsp70 family chaperone(PC00027)\": \"Hsp70 chaperone\",\n",
    "    \"RNA processing factor(PC00147)\": \"RNA processing factor\",\n",
    "    \"protein phosphatase(PC00195)\": \"Protein phosphatase\",\n",
    "    \"microtubule binding motor protein(PC00156)\": \"Motor protein\",\n",
    "    \"phosphodiesterase(PC00185)\": \"Phosphodiesterase\",\n",
    "    \"transcription cofactor(PC00217)\": \"Transcription cofactor\",\n",
    "    \"chaperone(PC00072)\": \"Chaperone\",\n",
    "    \"ligase(PC00142)\": \"Ligase\",\n",
    "    \"translation factor(PC00223)\": \"Translation factor\",\n",
    "    \"zinc finger transcription factor(PC00244)\": \"Transcription factor\",\n",
    "    \"non-receptor tyrosine protein kinase(PC00168)\": \"Tyr kinase\",\n",
    "\n",
    "}\n",
    "\n",
    "# Simplify the names for the most common\n",
    "uniprot_to_panther_gloops['Panther protein class'] = uniprot_to_panther_gloops['Panther protein class'].apply(lambda x: panther_name_conversion[x] if x in panther_name_conversion else x)"
   ]
  },
  {
   "cell_type": "code",
   "execution_count": 31,
   "metadata": {},
   "outputs": [
    {
     "name": "stdout",
     "output_type": "stream",
     "text": [
      "        gene   Panther protein class\n",
      "18     ZMYM2    Transcription factor\n",
      "65     TRIB3          Ser/Thr kinase\n",
      "103    PDE6D       Phosphodiesterase\n",
      "108    PPIL4               Chaperone\n",
      "125     WBP4                     NaN\n",
      "157    KIFC3           Motor protein\n",
      "159     CHD7       Chromatin protein\n",
      "174     WEE1          Ser/Thr kinase\n",
      "254    TRIB1          Ser/Thr kinase\n",
      "281    LIMD1  Transcription cofactor\n",
      "285   CSNK1D          Ser/Thr kinase\n",
      "294    MNAT1               Chaperone\n",
      "438     ASS1                  Ligase\n",
      "440     PLK3          Ser/Thr kinase\n",
      "444    SCYL1          Ser/Thr kinase\n",
      "482    GSPT1      Translation factor\n",
      "677  CSNK1A1          Ser/Thr kinase\n",
      "691     NEK7          Ser/Thr kinase\n"
     ]
    }
   ],
   "source": [
    "# Get the protein class for validated targets \n",
    "uniprot_to_panther_gloops_validated = uniprot_to_panther_gloops[uniprot_to_panther_gloops['gene'].isin(paper_validated)]\n",
    "uniprot_to_panther_gloops_validated = uniprot_to_panther_gloops_validated.drop_duplicates(subset='gene')\n",
    "print(uniprot_to_panther_gloops_validated[['gene','Panther protein class']])\n",
    "\n",
    "# Set those with NaN to 'Other'\n",
    "uniprot_to_panther_gloops['Panther protein class'] = uniprot_to_panther_gloops['Panther protein class'].fillna('Other')"
   ]
  },
  {
   "cell_type": "code",
   "execution_count": 33,
   "metadata": {},
   "outputs": [
    {
     "data": {
      "image/png": "[encoded data removed]",
      "text/plain": [
       "<Figure size 150x150 with 1 Axes>"
      ]
     },
     "metadata": {},
     "output_type": "display_data"
    }
   ],
   "source": [
    "import matplotlib.pyplot as plt\n",
    "import seaborn as sns\n",
    "import pandas as pd\n",
    "\n",
    "df_filtered = uniprot_to_panther_gloops\n",
    "\n",
    "# Convert long names to shorter ones\n",
    "#df_filtered['Panther protein class'] = df_filtered['Panther protein class'].map(panther_name_conversion, na_action='ignore')\n",
    "\n",
    "counts = df_filtered['Panther protein class'].value_counts()\n",
    "\n",
    "# Set the font globally to Arial\n",
    "matplotlib.rcParams['font.family'] = 'Helvetica'\n",
    "\n",
    "# Keep only the top 8 domains\n",
    "top_domains = counts\n",
    "# Sum all other domain counts and add them as 'Other'\n",
    "#other_count = domain_counts[8:].sum()\n",
    "#top_domains['Other'] = other_count\n",
    "\n",
    "top_domain_values = top_domains.values.astype(float)\n",
    "\n",
    "# Explode slices corresponding to the validated domains\n",
    "labels = [x for x in top_domains.index]\n",
    "explode = [0.0] * len(top_domains)  # Explode all slices\n",
    "for ix, label in enumerate(labels): \n",
    "    if loop_length == 8:\n",
    "        if label in ['Ser/Thr kinase',  'Phosphodiesterase', 'RNA metabolism protein', 'Chromatin protein', 'Ligase', 'Motor protein', 'Chaperone', 'Ligase', 'Translation factor', 'Transcription factor', 'Other']:\n",
    "            explode[ix] = 0.10\n",
    "        elif label not in ['C2H2 ZF']:\n",
    "            explode[ix] = 0.0\n",
    "            labels[ix] = ''\n",
    "    elif loop_length == 5:\n",
    "        if label in ['Ser/Thr kinase',  'Tyr kinase']:\n",
    "            explode[ix] = 0.10\n",
    "        elif label not in ['C2H2 ZF']:\n",
    "            explode[ix] = 0.0\n",
    "            labels[ix] = ''\n",
    "\n",
    "\n",
    "# Set a nice color palette\n",
    "colors0 = [(0.6, 0.6, 0.6)] # Append a distinct gray for 'Other'\n",
    "colors1 = sns.color_palette('husl', n_colors=len(top_domains))  # Generate colors for all but the 'Other' category\n",
    "colors0.extend(colors1)  # Append a distinct light gray for 'Other'\n",
    "colors = colors0\n",
    "\n",
    "# Create the pie chart\n",
    "if loop_length == 8:\n",
    "    plt.figure(figsize=(1.5, 1.5))  # Set the figure size\n",
    "    wedges, texts = plt.pie(top_domains, labels=['']*len(labels), startangle=60, wedgeprops={'width': 0.3, 'edgecolor': 'black', 'linewidth': 0.25}, \\\n",
    "                            colors=colors, explode=explode, textprops={'fontsize': 5})\n",
    "elif loop_length == 5:\n",
    "    plt.figure(figsize=(1.0, 1.0))  # Set the figure size\n",
    "    wedges, texts = plt.pie(top_domains, labels=['']*len(labels), startangle=240, wedgeprops={'width': 0.3, 'edgecolor': 'black', 'linewidth': 0.25}, \\\n",
    "                            colors=colors, explode=explode, textprops={'fontsize': 5}) \n",
    "\n",
    "# Correct way to set properties for texts\n",
    "plt.setp(texts, size=5, weight=\"bold\", color=\"black\")  # Customizing label texts\n",
    "\n",
    "total_proteins = len(df)\n",
    "total_classes = len(counts)\n",
    "plt.text(0, 0, f'{total_proteins}\\nproteins in \\n{total_classes} protein\\nclasses\\n', ha='center', va='center', fontsize=5)\n",
    "\n",
    "plt.axis('equal')  # Equal aspect ratio ensures that pie is drawn as a circle.\n",
    "#plt.tight_layout()\n",
    "plt.savefig('fig1/Top_20_protein_classes_{}.pdf'.format(loop_length), dpi=300)"
   ]
  },
  {
   "cell_type": "code",
   "execution_count": 34,
   "metadata": {},
   "outputs": [
    {
     "data": {
      "text/plain": [
       "Panther protein class\n",
       "Other                                         140\n",
       "Ser/Thr kinase                                137\n",
       "Scaffold protein                               39\n",
       "Ubiquitin ligase                               25\n",
       "Actin-binding protein                          22\n",
       "                                             ... \n",
       "transfer/carrier protein(PC00219)               1\n",
       "tyrosine protein kinase receptor(PC00233)       1\n",
       "dehydratase(PC00091)                            1\n",
       "metabolite interconversion enzyme(PC00262)      1\n",
       "galactosidase(PC00104)                          1\n",
       "Name: count, Length: 96, dtype: int64"
      ]
     },
     "execution_count": 34,
     "metadata": {},
     "output_type": "execute_result"
    }
   ],
   "source": [
    "top_domains"
   ]
  },
  {
   "cell_type": "code",
   "execution_count": 35,
   "metadata": {},
   "outputs": [
    {
     "data": {
      "image/png": "[encoded data removed]",
      "text/plain": [
       "<Figure size 400x400 with 1 Axes>"
      ]
     },
     "metadata": {},
     "output_type": "display_data"
    }
   ],
   "source": [
    "# Plot one with labels so that I can see the values\n",
    "plt.figure(figsize=(4, 4))  # Set the figure size\n",
    "wedges, texts = plt.pie(top_domains, labels=labels, startangle=60, wedgeprops={'width': 0.3, 'edgecolor': 'black', 'linewidth': 0.25}, colors=colors, explode=explode, textprops={'fontsize': 12})\n"
   ]
  },
  {
   "cell_type": "code",
   "execution_count": 36,
   "metadata": {},
   "outputs": [
    {
     "data": {
      "text/plain": [
       "Panther protein class\n",
       "Other                                                               140\n",
       "Ser/Thr kinase                                                      137\n",
       "Scaffold protein                                                     39\n",
       "Ubiquitin ligase                                                     25\n",
       "Actin-binding protein                                                22\n",
       "Cysteine protease                                                    21\n",
       "RNA metabolism protein                                               20\n",
       "Chromatin protein                                                    16\n",
       "Translation factor                                                   12\n",
       "Signal receptor                                                      11\n",
       "Hsp70 chaperone                                                      10\n",
       "Ion channel                                                          10\n",
       "Protein phosphatase                                                   9\n",
       "metalloprotease(PC00153)                                              9\n",
       "RNA processing factor                                                 9\n",
       "DNA metabolism protein                                                9\n",
       "RNA splicing factor                                                   9\n",
       "ribosomal protein(PC00202)                                            9\n",
       "Chaperone                                                             8\n",
       "membrane traffic protein(PC00150)                                     8\n",
       "Transcription cofactor                                                7\n",
       "voltage-gated ion channel(PC00241)                                    7\n",
       "Tyr kinase                                                            7\n",
       "DNA-directed RNA polymerase(PC00019)                                  6\n",
       "guanyl-nucleotide exchange factor(PC00113)                            6\n",
       "intermediate filament binding protein(PC00130)                        6\n",
       "Motor protein                                                         6\n",
       "histone modifying enzyme(PC00261)                                     5\n",
       "RNA helicase(PC00032)                                                 5\n",
       "peroxidase(PC00180)                                                   5\n",
       "general transcription factor(PC00259)                                 5\n",
       "DNA helicase(PC00011)                                                 4\n",
       "protease(PC00190)                                                     4\n",
       "esterase(PC00097)                                                     4\n",
       "exoribonuclease(PC00099)                                              4\n",
       "glycosyltransferase(PC00111)                                          4\n",
       "oxidoreductase(PC00176)                                               4\n",
       "mRNA polyadenylation factor(PC00146)                                  4\n",
       "antimicrobial response protein(PC00051)                               4\n",
       "dehydrogenase(PC00092)                                                4\n",
       "protein modifying enzyme(PC00260)                                     4\n",
       "Transcription factor                                                  3\n",
       "ATP-binding cassette (ABC) transporter(PC00003)                       3\n",
       "aminoacyl-tRNA synthetase(PC00047)                                    3\n",
       "nucleotide kinase(PC00172)                                            3\n",
       "microtubule or microtubule-binding cytoskeletal protein(PC00157)      3\n",
       "phospholipase(PC00186)                                                3\n",
       "glucosidase(PC00108)                                                  3\n",
       "basic leucine zipper transcription factor(PC00056)                    3\n",
       "kinase modulator(PC00140)                                             3\n",
       "lipase(PC00143)                                                       2\n",
       "defense/immunity protein(PC00090)                                     2\n",
       "extracellular matrix protein(PC00102)                                 2\n",
       "apolipoprotein(PC00052)                                               2\n",
       "kinase(PC00137)                                                       2\n",
       "Ligase                                                                2\n",
       "methyltransferase(PC00155)                                            2\n",
       "non-motor microtubule binding protein(PC00166)                        2\n",
       "Rel homology transcription factor(PC00252)                            2\n",
       "reductase(PC00198)                                                    2\n",
       "protease inhibitor(PC00191)                                           2\n",
       "GTPase-activating protein(PC00257)                                    2\n",
       "cell junction protein(PC00070)                                        2\n",
       "oxygenase(PC00177)                                                    2\n",
       "Phosphodiesterase                                                     2\n",
       "transferase(PC00220)                                                  2\n",
       "nucleotidyltransferase(PC00174)                                       2\n",
       "serine protease(PC00203)                                              2\n",
       "acetyltransferase(PC00038)                                            1\n",
       "secondary carrier transporter(PC00258)                                1\n",
       "growth factor(PC00112)                                                1\n",
       "homeodomain transcription factor(PC00119)                             1\n",
       "hydrolase(PC00121)                                                    1\n",
       "endoribonuclease(PC00094)                                             1\n",
       "membrane-bound signaling molecule(PC00152)                            1\n",
       "G-protein modulator(PC00022)                                          1\n",
       "aspartic protease(PC00053)                                            1\n",
       "RNA methyltransferase(PC00033)                                        1\n",
       "viral or transposable element protein(PC00237)                        1\n",
       "cytokine(PC00083)                                                     1\n",
       "tight junction(PC00214)                                               1\n",
       "cell adhesion molecule(PC00069)                                       1\n",
       "carbohydrate kinase(PC00065)                                          1\n",
       "nucleotide phosphatase(PC00173)                                       1\n",
       "phosphatase(PC00181)                                                  1\n",
       "guanylate cyclase(PC00114)                                            1\n",
       "ATP synthase(PC00002)                                                 1\n",
       "oxidase(PC00175)                                                      1\n",
       "extracellular matrix glycoprotein(PC00100)                            1\n",
       "translation release factor(PC00225)                                   1\n",
       "vesicle coat protein(PC00235)                                         1\n",
       "transfer/carrier protein(PC00219)                                     1\n",
       "tyrosine protein kinase receptor(PC00233)                             1\n",
       "dehydratase(PC00091)                                                  1\n",
       "metabolite interconversion enzyme(PC00262)                            1\n",
       "galactosidase(PC00104)                                                1\n",
       "Name: count, dtype: int64"
      ]
     },
     "execution_count": 36,
     "metadata": {},
     "output_type": "execute_result"
    }
   ],
   "source": [
    "pd.set_option('display.max_rows', None)\n",
    "top_domains.head(100)"
   ]
  },
  {
   "cell_type": "code",
   "execution_count": 37,
   "metadata": {},
   "outputs": [
    {
     "data": {
      "text/html": [
       "<div>\n",
       "<style scoped>\n",
       "    .dataframe tbody tr th:only-of-type {\n",
       "        vertical-align: middle;\n",
       "    }\n",
       "\n",
       "    .dataframe tbody tr th {\n",
       "        vertical-align: top;\n",
       "    }\n",
       "\n",
       "    .dataframe thead th {\n",
       "        text-align: right;\n",
       "    }\n",
       "</style>\n",
       "<table border=\"1\" class=\"dataframe\">\n",
       "  <thead>\n",
       "    <tr style=\"text-align: right;\">\n",
       "      <th></th>\n",
       "      <th>Unnamed: 0</th>\n",
       "      <th>PDBID</th>\n",
       "      <th>RMSD</th>\n",
       "      <th>Clashing_CA</th>\n",
       "      <th>Clashing</th>\n",
       "      <th>Res0</th>\n",
       "      <th>Res1</th>\n",
       "      <th>Res2</th>\n",
       "      <th>Res3</th>\n",
       "      <th>Res4</th>\n",
       "      <th>...</th>\n",
       "      <th>uniprot</th>\n",
       "      <th>domain</th>\n",
       "      <th>domain_fn</th>\n",
       "      <th>start</th>\n",
       "      <th>end</th>\n",
       "      <th>key</th>\n",
       "      <th>compound_score</th>\n",
       "      <th>C2H2</th>\n",
       "      <th>Category</th>\n",
       "      <th>Kinase domain</th>\n",
       "    </tr>\n",
       "  </thead>\n",
       "  <tbody>\n",
       "    <tr>\n",
       "      <th>3755</th>\n",
       "      <td>6817</td>\n",
       "      <td>3t5i_B</td>\n",
       "      <td>0.297306</td>\n",
       "      <td>0.0</td>\n",
       "      <td>2.0</td>\n",
       "      <td>ARG 23</td>\n",
       "      <td>ASP 24</td>\n",
       "      <td>ALA 25</td>\n",
       "      <td>GLU 26</td>\n",
       "      <td>THR 27</td>\n",
       "      <td>...</td>\n",
       "      <td>O43924</td>\n",
       "      <td>GMP phosphodiesterase, delta subunit superfamily</td>\n",
       "      <td>NaN</td>\n",
       "      <td>1.0</td>\n",
       "      <td>150.0</td>\n",
       "      <td>PDE6D:ARG 23:ASP 24:ALA 25:GLU 26:THR 27:</td>\n",
       "      <td>3.363535</td>\n",
       "      <td>0</td>\n",
       "      <td>Beta hairpin\\n(non-C2H2)</td>\n",
       "      <td>Other</td>\n",
       "    </tr>\n",
       "  </tbody>\n",
       "</table>\n",
       "<p>1 rows × 26 columns</p>\n",
       "</div>"
      ],
      "text/plain": [
       "      Unnamed: 0   PDBID      RMSD  Clashing_CA  Clashing    Res0    Res1  \\\n",
       "3755        6817  3t5i_B  0.297306          0.0       2.0  ARG 23  ASP 24   \n",
       "\n",
       "        Res2    Res3    Res4  ... uniprot  \\\n",
       "3755  ALA 25  GLU 26  THR 27  ...  O43924   \n",
       "\n",
       "                                                domain domain_fn start    end  \\\n",
       "3755  GMP phosphodiesterase, delta subunit superfamily       NaN   1.0  150.0   \n",
       "\n",
       "                                            key compound_score C2H2  \\\n",
       "3755  PDE6D:ARG 23:ASP 24:ALA 25:GLU 26:THR 27:       3.363535    0   \n",
       "\n",
       "                      Category  Kinase domain  \n",
       "3755  Beta hairpin\\n(non-C2H2)          Other  \n",
       "\n",
       "[1 rows x 26 columns]"
      ]
     },
     "execution_count": 37,
     "metadata": {},
     "output_type": "execute_result"
    }
   ],
   "source": [
    "df[df['gene']== 'PDE6D']"
   ]
  },
  {
   "cell_type": "markdown",
   "metadata": {},
   "source": [
    "## Plot domains"
   ]
  },
  {
   "cell_type": "code",
   "execution_count": 38,
   "metadata": {},
   "outputs": [],
   "source": [
    "undruggable_df = df_all_gloops[df_all_gloops['Category'] == 'Beta hairpin\\n(non-C2H2)']"
   ]
  },
  {
   "cell_type": "code",
   "execution_count": 39,
   "metadata": {},
   "outputs": [
    {
     "name": "stderr",
     "output_type": "stream",
     "text": [
      "/var/folders/nq/c118s1k508g8jf83mwb03yq40000gn/T/ipykernel_12550/336111011.py:39: SettingWithCopyWarning: \n",
      "A value is trying to be set on a copy of a slice from a DataFrame.\n",
      "Try using .loc[row_indexer,col_indexer] = value instead\n",
      "\n",
      "See the caveats in the documentation: https://pandas.pydata.org/pandas-docs/stable/user_guide/indexing.html#returning-a-view-versus-a-copy\n",
      "  undruggable_df['domain'] = undruggable_df['domain'].map(map_domain_names)\n"
     ]
    }
   ],
   "source": [
    "# For the most common domain types, change the name to a shorter version so that it fits in the plot\n",
    "import pandas as pd\n",
    "\n",
    "# Assuming 'df' is your DataFrame and it has a column named 'domain'\n",
    "# Here is the mapping dictionary from old full names to new abbreviated names:\n",
    "domain_name_mapping = {\n",
    "    \"Protein kinase domain\": \"Kinase\",\n",
    "    \"Zinc finger C2H2-type\": \"C2H2 ZF\",\n",
    "    \"RNA recognition motif domain\": \"RRM\",\n",
    "    \"SH3 domain\": \"SH3\",\n",
    "    \"Zinc finger, LIM-type\": \"LIM ZF\",\n",
    "    \"WW domain\": \"WW\",\n",
    "    \"Nucleotide-binding alpha-beta plait domain superfamily\": \"NABP\",\n",
    "    \"Ubiquitin specific protease domain\": \"USP\",\n",
    "    \"Peptidase C19, ubiquitin carboxyl-terminal hydrolase\": \"Peptidase C19\",\n",
    "    \"B-box-type zinc finger\": \"B-box ZF\",\n",
    "    \"Heat shock protein 70 family\": \"HSP70\",\n",
    "    \"Ran binding domain\": \"Ran BD\",\n",
    "    \"Zinc finger, RING/FYVE/PHD-type\": \"RING+ ZF\",\n",
    "    'Zinc finger, RING-type': 'RING+ ZF',\n",
    "    \"Zinc finger, PHD-finger\": \"RING+ ZF\",\n",
    "    \"Kelch-type beta propeller\": \"Kelch BP\",\n",
    "    \"Protein-tyrosine phosphatase-like\": \"PTP-like\",\n",
    "    \"Helicase, C-terminal\": \"Helicase C-term\",\n",
    "    'BRK domain superfamily': 'BRK',\n",
    "    'BRK domain': 'BRK',\n",
    "    'IPT domain': 'IPT',\n",
    "    'Zinc finger, MYM-type': 'MYM ZF',\n",
    "    'Argininosuccinate synthase': 'HUP',\n",
    "    'Kinesin motor domain': 'Kinesin',\n",
    "}\n",
    "\n",
    "def map_domain_names(domain):\n",
    "    if domain in domain_name_mapping:\n",
    "        return domain_name_mapping[domain]\n",
    "    return domain\n",
    "\n",
    "# Use the map function to convert the 'domain' column\n",
    "undruggable_df['domain'] = undruggable_df['domain'].map(map_domain_names)"
   ]
  },
  {
   "cell_type": "code",
   "execution_count": 40,
   "metadata": {},
   "outputs": [
    {
     "data": {
      "text/html": [
       "<div>\n",
       "<style scoped>\n",
       "    .dataframe tbody tr th:only-of-type {\n",
       "        vertical-align: middle;\n",
       "    }\n",
       "\n",
       "    .dataframe tbody tr th {\n",
       "        vertical-align: top;\n",
       "    }\n",
       "\n",
       "    .dataframe thead th {\n",
       "        text-align: right;\n",
       "    }\n",
       "</style>\n",
       "<table border=\"1\" class=\"dataframe\">\n",
       "  <thead>\n",
       "    <tr style=\"text-align: right;\">\n",
       "      <th></th>\n",
       "      <th>Unnamed: 0</th>\n",
       "      <th>PDBID</th>\n",
       "      <th>RMSD</th>\n",
       "      <th>Clashing_CA</th>\n",
       "      <th>Clashing</th>\n",
       "      <th>Res0</th>\n",
       "      <th>Res1</th>\n",
       "      <th>Res2</th>\n",
       "      <th>Res3</th>\n",
       "      <th>Res4</th>\n",
       "      <th>...</th>\n",
       "      <th>gene</th>\n",
       "      <th>uniprot</th>\n",
       "      <th>domain</th>\n",
       "      <th>domain_fn</th>\n",
       "      <th>start</th>\n",
       "      <th>end</th>\n",
       "      <th>key</th>\n",
       "      <th>compound_score</th>\n",
       "      <th>C2H2</th>\n",
       "      <th>Category</th>\n",
       "    </tr>\n",
       "  </thead>\n",
       "  <tbody>\n",
       "    <tr>\n",
       "      <th>6172</th>\n",
       "      <td>13006</td>\n",
       "      <td>2nz2_A</td>\n",
       "      <td>0.635711</td>\n",
       "      <td>0.0</td>\n",
       "      <td>1.0</td>\n",
       "      <td>THR 236</td>\n",
       "      <td>ASN 237</td>\n",
       "      <td>VAL 238</td>\n",
       "      <td>LYS 239</td>\n",
       "      <td>ASP 240</td>\n",
       "      <td>...</td>\n",
       "      <td>ASS1</td>\n",
       "      <td>P00966</td>\n",
       "      <td>HUP</td>\n",
       "      <td>NaN</td>\n",
       "      <td>1.0</td>\n",
       "      <td>412.0</td>\n",
       "      <td>ASS1:THR 236:ASN 237:VAL 238:LYS 239:ASP 240:</td>\n",
       "      <td>1.573042</td>\n",
       "      <td>0</td>\n",
       "      <td>Beta hairpin\\n(non-C2H2)</td>\n",
       "    </tr>\n",
       "  </tbody>\n",
       "</table>\n",
       "<p>1 rows × 25 columns</p>\n",
       "</div>"
      ],
      "text/plain": [
       "      Unnamed: 0   PDBID      RMSD  Clashing_CA  Clashing     Res0     Res1  \\\n",
       "6172       13006  2nz2_A  0.635711          0.0       1.0  THR 236  ASN 237   \n",
       "\n",
       "         Res2     Res3     Res4  ...  gene uniprot domain domain_fn start  \\\n",
       "6172  VAL 238  LYS 239  ASP 240  ...  ASS1  P00966    HUP       NaN   1.0   \n",
       "\n",
       "        end                                            key compound_score  \\\n",
       "6172  412.0  ASS1:THR 236:ASN 237:VAL 238:LYS 239:ASP 240:       1.573042   \n",
       "\n",
       "     C2H2                  Category  \n",
       "6172    0  Beta hairpin\\n(non-C2H2)  \n",
       "\n",
       "[1 rows x 25 columns]"
      ]
     },
     "execution_count": 40,
     "metadata": {},
     "output_type": "execute_result"
    }
   ],
   "source": [
    "undruggable_df[undruggable_df['gene']=='ASS1']"
   ]
  },
  {
   "cell_type": "code",
   "execution_count": 42,
   "metadata": {},
   "outputs": [
    {
     "data": {
      "image/png": "[encoded data removed]",
      "text/plain": [
       "<Figure size 200x200 with 1 Axes>"
      ]
     },
     "metadata": {},
     "output_type": "display_data"
    }
   ],
   "source": [
    "import matplotlib.pyplot as plt\n",
    "import seaborn as sns\n",
    "import matplotlib\n",
    "\n",
    "# Set the font globally to Helvetica\n",
    "matplotlib.rcParams['font.family'] = 'Helvetica'\n",
    "\n",
    "# Count the occurrences of each domain\n",
    "domain_counts = undruggable_df['domain'].value_counts()\n",
    "\n",
    "# Keep only the top 8 domains\n",
    "top_domains = domain_counts\n",
    "\n",
    "top_domain_values = top_domains.values.astype(float)\n",
    "\n",
    "# Explode slices corresponding to the validated domains\n",
    "labels = [x for x in top_domains.index]\n",
    "explode = [0.0] * len(top_domains)  # Explode all slices\n",
    "for ix, label in enumerate(labels): \n",
    "    if label in ['RRM', 'BRK', 'Kinase', 'HUP']:\n",
    "        explode[ix] = 0.20\n",
    "    elif label in ['RING+ ZF', 'LIM ZF', 'WW', 'HUP']:\n",
    "        explode[ix] = 0.20\n",
    "    elif label not in ['C2H2 ZF']:\n",
    "        explode[ix] = 0.0\n",
    "        labels[ix] = ''\n",
    "\n",
    "# Set a nice color palette\n",
    "colors = sns.color_palette('husl', n_colors=len(top_domains))  # Generate colors for all but the 'Other' category\n",
    "\n",
    "# Create the pie chart\n",
    "plt.figure(figsize=(2, 2))  # Set the figure size\n",
    "wedges, texts = plt.pie(top_domains, labels=labels, startangle=135, wedgeprops={'width': 0.3, 'edgecolor': 'black', 'linewidth': 0.25}, colors=colors, explode=explode, textprops={'fontsize': 12})\n",
    "\n",
    "# Correct way to set properties for texts\n",
    "plt.setp(texts, size=5, weight=\"bold\", color=\"black\")  # Customizing label texts\n",
    "\n",
    "total_unique_domains = len(set(undruggable_df['domain'].values))\n",
    "total_gloops = domain_counts.sum()\n",
    "total_proteins = len(set(undruggable_df['gene'].values))\n",
    "plt.text(0, 0, f'{total_gloops} G-loops \\n in {total_unique_domains} domains\\n', ha='center', va='center', fontsize=12)\n",
    "\n",
    "plt.axis('equal')  # Equal aspect ratio ensures that pie is drawn as a circle.\n",
    "plt.savefig('domains_reference.png', dpi=300)\n",
    "plt.show()\n"
   ]
  },
  {
   "cell_type": "code",
   "execution_count": 43,
   "metadata": {},
   "outputs": [
    {
     "data": {
      "image/png": "[encoded data removed]",
      "text/plain": [
       "<Figure size 150x150 with 1 Axes>"
      ]
     },
     "metadata": {},
     "output_type": "display_data"
    }
   ],
   "source": [
    "import matplotlib.pyplot as plt\n",
    "import seaborn as sns\n",
    "import matplotlib\n",
    "\n",
    "# Set the font globally to Arial\n",
    "matplotlib.rcParams['font.family'] = 'Helvetica'\n",
    "\n",
    "# Count the occurrences of each domain\n",
    "domain_counts = undruggable_df['domain'].value_counts()\n",
    "\n",
    "# Keep only the top 8 domains\n",
    "top_domains = domain_counts\n",
    "\n",
    "top_domain_values = top_domains.values.astype(float)\n",
    "\n",
    "# Explode slices corresponding to the validated domains\n",
    "labels = [x for x in top_domains.index]\n",
    "explode = [0.0] * len(top_domains)  # Explode all slices\n",
    "for ix, label in enumerate(labels): \n",
    "    if label in ['RRM', 'BRK', 'Kinase', 'HUP']:\n",
    "        explode[ix] = 0.20\n",
    "        labels[ix] = ''\n",
    "    elif label in ['RING+ ZF', 'LIM ZF', 'WW', 'HUP']:\n",
    "        explode[ix] = 0.20\n",
    "        labels[ix] = ''\n",
    "    elif label not in ['C2H2 ZF']:\n",
    "        explode[ix] = 0.0\n",
    "        labels[ix] = ''\n",
    "\n",
    "# Set a nice color palette\n",
    "colors = sns.color_palette('husl', n_colors=len(top_domains))  # Generate colors for all but the 'Other' category\n",
    "\n",
    "# Create the pie chart\n",
    "plt.figure(figsize=(1.5, 1.5))  # Set the figure size\n",
    "wedges, texts = plt.pie(top_domains, labels=labels, startangle=135, wedgeprops={'width': 0.3, 'edgecolor': 'black', 'linewidth': 0.25}, colors=colors, explode=explode, textprops={'fontsize': 5})\n",
    "\n",
    "# Correct way to set properties for texts\n",
    "plt.setp(texts, size=5, weight=\"bold\", color=\"black\")  # Customizing label texts\n",
    "\n",
    "total_unique_domains = len(set(undruggable_df['domain'].values))\n",
    "total_gloops = domain_counts.sum()\n",
    "total_proteins = len(set(undruggable_df['gene'].values))\n",
    "plt.text(0, 0, f'{total_gloops}\\nβ-hairpin G-loops \\n in {total_unique_domains} domains\\n', ha='center', va='center', fontsize=5)\n",
    "\n",
    "plt.axis('equal')  # Equal aspect ratio ensures that pie is drawn as a circle.\n",
    "plt.savefig('fig1/Top_20_domains_{}.pdf'.format(loop_length), dpi=300)\n",
    "plt.show()\n",
    "\n"
   ]
  },
  {
   "cell_type": "markdown",
   "metadata": {},
   "source": [
    "# Logoplot section"
   ]
  },
  {
   "cell_type": "code",
   "execution_count": 49,
   "metadata": {},
   "outputs": [],
   "source": [
    "import logomaker\n",
    "import pandas as pd\n",
    "import matplotlib.pyplot as plt\n",
    "\n",
    "def make_logoplot(df, outfn, degron_range=(7, 20), glycine_ix=5):\n",
    "    all_sequences = df['Degron'].values\n",
    "\n",
    "    # Convert list of sequences into a DataFrame where each column represents a position in the sequence\n",
    "    all_seqs = pd.DataFrame([list(seq)[degron_range[0]:degron_range[1]] for seq in all_sequences])\n",
    "    \n",
    "    print('Number of sequences used: ', all_seqs.shape)\n",
    "\n",
    "    # Calculate the frequency of each base at each position\n",
    "    freq_matrix = all_seqs.apply(lambda x: x.value_counts(normalize=True), axis=0).fillna(0)\n",
    "\n",
    "    # Filter to keep only frequencies greater than 0.1\n",
    "    threshold_freq_matrix = freq_matrix.apply(lambda x: x[x > 0.1], axis=0).fillna(0)\n",
    "\n",
    "    # Create a logo from the filtered frequency matrix with a color scheme\n",
    "    logo = logomaker.Logo(threshold_freq_matrix.T, font_name='Helvetica', color_scheme='chemistry', )\n",
    "\n",
    "    # Configure the plot\n",
    "    logo.ax.set_xticklabels('')\n",
    "    logo.ax.set_yticklabels('')\n",
    "\n",
    "    style_sequence = ['.']*(degron_range[1] - degron_range[0])\n",
    "    style_sequence = ''.join(style_sequence)\n",
    "\n",
    "    # Set font sizes\n",
    "    logo.style_glyphs_in_sequence(sequence=style_sequence,color='black', alpha=1, font_name='Helvetica', font_size=5)\n",
    "\n",
    "    # make ticks invisible\n",
    "    logo.ax.tick_params(axis='x', which='both', bottom=False, top=False, labelbottom=False)\n",
    "    logo.ax.tick_params(axis='y', which='both', left=False, right=False, labelleft=False)\n",
    "\n",
    "    # Remove upper and right borders\n",
    "    logo.ax.spines['top'].set_visible(False)\n",
    "    logo.ax.spines['right'].set_visible(False)\n",
    "    logo.ax.spines['left'].set_visible(False)\n",
    "\n",
    "    # Make the plot size 0.2x2 inches\n",
    "    logo.ax.figure.set_size_inches(0.65, 0.5)\n",
    "\n",
    "    # Show plot\n",
    "    logo.fig.show()\n",
    "    logo.fig.savefig(outfn, dpi=300)"
   ]
  },
  {
   "cell_type": "code",
   "execution_count": 50,
   "metadata": {},
   "outputs": [
    {
     "data": {
      "text/plain": [
       "Category\n",
       "Beta hairpin\\n(non-C2H2)    737\n",
       "Name: count, dtype: int64"
      ]
     },
     "execution_count": 50,
     "metadata": {},
     "output_type": "execute_result"
    }
   ],
   "source": [
    "category_counts = df['Category'].value_counts()\n",
    "category_counts"
   ]
  },
  {
   "cell_type": "code",
   "execution_count": 51,
   "metadata": {},
   "outputs": [
    {
     "name": "stdout",
     "output_type": "stream",
     "text": [
      "Number of sequences used:  (646, 13)\n",
      "Number of sequences used:  (737, 13)\n",
      "Number of sequences used:  (41, 13)\n"
     ]
    },
    {
     "name": "stderr",
     "output_type": "stream",
     "text": [
      "/var/folders/nq/c118s1k508g8jf83mwb03yq40000gn/T/ipykernel_12550/480525753.py:45: UserWarning: FigureCanvasAgg is non-interactive, and thus cannot be shown\n",
      "  logo.fig.show()\n",
      "/var/folders/nq/c118s1k508g8jf83mwb03yq40000gn/T/ipykernel_12550/480525753.py:45: UserWarning: FigureCanvasAgg is non-interactive, and thus cannot be shown\n",
      "  logo.fig.show()\n",
      "/var/folders/nq/c118s1k508g8jf83mwb03yq40000gn/T/ipykernel_12550/480525753.py:45: UserWarning: FigureCanvasAgg is non-interactive, and thus cannot be shown\n",
      "  logo.fig.show()\n"
     ]
    },
    {
     "name": "stdout",
     "output_type": "stream",
     "text": [
      "Number of sequences used:  (157, 13)\n"
     ]
    },
    {
     "name": "stderr",
     "output_type": "stream",
     "text": [
      "/var/folders/nq/c118s1k508g8jf83mwb03yq40000gn/T/ipykernel_12550/480525753.py:45: UserWarning: FigureCanvasAgg is non-interactive, and thus cannot be shown\n",
      "  logo.fig.show()\n"
     ]
    },
    {
     "data": {
      "image/png": "[encoded data removed]",
      "text/plain": [
       "<Figure size 65x50 with 1 Axes>"
      ]
     },
     "metadata": {},
     "output_type": "display_data"
    },
    {
     "data": {
      "image/png": "[encoded data removed]",
      "text/plain": [
       "<Figure size 65x50 with 1 Axes>"
      ]
     },
     "metadata": {},
     "output_type": "display_data"
    },
    {
     "data": {
      "image/png": "[encoded data removed]",
      "text/plain": [
       "<Figure size 65x50 with 1 Axes>"
      ]
     },
     "metadata": {},
     "output_type": "display_data"
    },
    {
     "data": {
      "image/png": "[encoded data removed]",
      "text/plain": [
       "<Figure size 65x50 with 1 Axes>"
      ]
     },
     "metadata": {},
     "output_type": "display_data"
    }
   ],
   "source": [
    "\n",
    "\n",
    "outfn = 'fig1/sequence_logo_{}reswindow_C2H2.pdf'\n",
    "make_logoplot(c2h2, outfn.format(loop_length))\n",
    "\n",
    "outfn = 'fig1/sequence_logo_{}reswindow_nonC2H2.pdf'\n",
    "make_logoplot(nonc2h2, outfn.format(loop_length))\n",
    "\n",
    "if len(helical_df) > 0:\n",
    "    outfn = 'fig1/sequence_logo_{}reswindow_helical.pdf'\n",
    "    make_logoplot(helical_df, outfn.format(loop_length))\n",
    "\n",
    "outfn = 'fig1/sequence_logo_{}reswindow_other.pdf'\n",
    "make_logoplot(other_df, outfn.format(loop_length))\n",
    "\n",
    "outfn = 'fig1/sequence_logo_{}reswindow_kinase.pdf'\n",
    "make_logoplot(kinase_df, outfn.format(loop_length))\n",
    "\n",
    "\n"
   ]
  },
  {
   "cell_type": "code",
   "execution_count": 52,
   "metadata": {},
   "outputs": [
    {
     "name": "stdout",
     "output_type": "stream",
     "text": [
      "Number of sequences used:  (646, 28)\n",
      "Number of sequences used:  (737, 28)\n"
     ]
    },
    {
     "name": "stderr",
     "output_type": "stream",
     "text": [
      "/var/folders/nq/c118s1k508g8jf83mwb03yq40000gn/T/ipykernel_12550/480525753.py:45: UserWarning: FigureCanvasAgg is non-interactive, and thus cannot be shown\n",
      "  logo.fig.show()\n",
      "/var/folders/nq/c118s1k508g8jf83mwb03yq40000gn/T/ipykernel_12550/480525753.py:45: UserWarning: FigureCanvasAgg is non-interactive, and thus cannot be shown\n",
      "  logo.fig.show()\n"
     ]
    },
    {
     "name": "stdout",
     "output_type": "stream",
     "text": [
      "Number of sequences used:  (41, 28)\n"
     ]
    },
    {
     "name": "stderr",
     "output_type": "stream",
     "text": [
      "/var/folders/nq/c118s1k508g8jf83mwb03yq40000gn/T/ipykernel_12550/480525753.py:45: UserWarning: FigureCanvasAgg is non-interactive, and thus cannot be shown\n",
      "  logo.fig.show()\n"
     ]
    },
    {
     "data": {
      "image/png": "[encoded data removed]",
      "text/plain": [
       "<Figure size 65x50 with 1 Axes>"
      ]
     },
     "metadata": {},
     "output_type": "display_data"
    },
    {
     "data": {
      "image/png": "[encoded data removed]",
      "text/plain": [
       "<Figure size 65x50 with 1 Axes>"
      ]
     },
     "metadata": {},
     "output_type": "display_data"
    },
    {
     "data": {
      "image/png": "[encoded data removed]",
      "text/plain": [
       "<Figure size 65x50 with 1 Axes>"
      ]
     },
     "metadata": {},
     "output_type": "display_data"
    }
   ],
   "source": [
    "if os.path.exists('degron_sequence_analysis_supplement') == False:\n",
    "    os.mkdir('degron_sequence_analysis_supplement')\n",
    "    \n",
    "outfn = 'degron_sequence_analysis_supplement/sequence_logo_{}reswindow_C2H2.pdf'\n",
    "make_logoplot(c2h2, outfn.format(loop_length), degron_range=(0,28), glycine_ix=14)\n",
    "\n",
    "outfn = 'degron_sequence_analysis_supplement/sequence_logo_{}reswindow_nonC2H2.pdf'\n",
    "make_logoplot(nonc2h2, outfn.format(loop_length), degron_range=(0,28), glycine_ix=14)\n",
    "\n",
    "if len(helical_df) > 0:\n",
    "    outfn = 'degron_sequence_analysis_supplement/sequence_logo_{}reswindow_helical.pdf'\n",
    "    make_logoplot(helical_df, outfn.format(loop_length), degron_range=(0,28), glycine_ix=14)\n",
    "\n",
    "outfn = 'degron_sequence_analysis_supplement/sequence_logo_{}reswindow_other.pdf'\n",
    "make_logoplot(other_df, outfn.format(loop_length), degron_range=(0,28), glycine_ix=14)\n",
    "\n"
   ]
  }
 ],
 "metadata": {
  "kernelspec": {
   "display_name": "base",
   "language": "python",
   "name": "python3"
  },
  "language_info": {
   "codemirror_mode": {
    "name": "ipython",
    "version": 3
   },
   "file_extension": ".py",
   "mimetype": "text/x-python",
   "name": "python",
   "nbconvert_exporter": "python",
   "pygments_lexer": "ipython3",
   "version": "3.9.18"
  }
 },
 "nbformat": 4,
 "nbformat_minor": 2
}
